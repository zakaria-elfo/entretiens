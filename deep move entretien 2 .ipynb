{
 "cells": [
  {
   "cell_type": "markdown",
   "id": "ea3906d8",
   "metadata": {},
   "source": [
    "# Projet deep move \n",
    "\n",
    "\n",
    "\n",
    "## Zakaria El Founoun"
   ]
  },
  {
   "cell_type": "markdown",
   "id": "6610b97f",
   "metadata": {},
   "source": [
    "## Importing packages:"
   ]
  },
  {
   "cell_type": "code",
   "execution_count": 2,
   "id": "c532995b",
   "metadata": {},
   "outputs": [],
   "source": [
    "import numpy as np\n",
    "import idx2numpy\n",
    "import matplotlib.pyplot as plt\n",
    "import tensorflow as tf \n",
    "from sklearn.decomposition import PCA\n",
    "from sklearn.linear_model import LogisticRegression \n",
    "from sklearn.tree import DecisionTreeClassifier\n",
    "from sklearn.ensemble import RandomForestClassifier\n",
    "from sklearn.pipeline import Pipeline "
   ]
  },
  {
   "cell_type": "markdown",
   "id": "193d48ea",
   "metadata": {},
   "source": [
    "## Reading and preparing the data :"
   ]
  },
  {
   "cell_type": "code",
   "execution_count": 3,
   "id": "7f7f5a27",
   "metadata": {},
   "outputs": [],
   "source": [
    "X_train_org = 'train-images.idx3-ubyte'\n",
    "Y_train_org = 'train-labels.idx1-ubyte'\n",
    "X_test_org = 't10k-images.idx3-ubyte'\n",
    "Y_test_org = 't10k-labels.idx1-ubyte'"
   ]
  },
  {
   "cell_type": "code",
   "execution_count": 4,
   "id": "8be0ad02",
   "metadata": {},
   "outputs": [
    {
     "name": "stdout",
     "output_type": "stream",
     "text": [
      "(28, 28)\n"
     ]
    }
   ],
   "source": [
    "X_train= idx2numpy.convert_from_file(X_train_org)\n",
    "Y_train = idx2numpy.convert_from_file(Y_train_org)\n",
    "X_test = idx2numpy.convert_from_file(X_test_org)\n",
    "Y_test = idx2numpy.convert_from_file(Y_test_org)\n",
    "print(X_test[0].shape)"
   ]
  },
  {
   "cell_type": "code",
   "execution_count": 5,
   "id": "5984ec3e",
   "metadata": {},
   "outputs": [
    {
     "data": {
      "image/png": "[encoded data removed]",
      "text/plain": [
       "<Figure size 720x720 with 25 Axes>"
      ]
     },
     "metadata": {},
     "output_type": "display_data"
    }
   ],
   "source": [
    "plt.figure(figsize=(10,10))\n",
    "for i in range(25):\n",
    "    plt.subplot(5,5,i+1)\n",
    "    plt.xticks([])\n",
    "    plt.yticks([])\n",
    "    plt.grid(False)\n",
    "    plt.imshow(X_train[i], cmap=plt.cm.binary)\n",
    "    plt.title(Y_train[i])\n",
    "plt.show()    "
   ]
  },
  {
   "cell_type": "code",
   "execution_count": 6,
   "id": "3b379f69",
   "metadata": {},
   "outputs": [],
   "source": [
    "X_train = X_train.reshape((X_train.shape[0],-1))/255.0    #making rows of data and scaling the data\n",
    "X_test = X_test.reshape((X_test.shape[0], -1))/255.0"
   ]
  },
  {
   "cell_type": "markdown",
   "id": "2e7ffb9f",
   "metadata": {},
   "source": [
    "## Creating and testing different pipelines :"
   ]
  },
  {
   "cell_type": "code",
   "execution_count": 7,
   "id": "63da2999",
   "metadata": {},
   "outputs": [],
   "source": [
    "pipeline_lg = Pipeline([('pca1', PCA(n_components=10)), ('LogisticRegression' , LogisticRegression())])\n",
    "pipeline_dt = Pipeline ([ ('DecisionTree' , DecisionTreeClassifier())])\n",
    "pipeline_rf = Pipeline ([('RandomForest' , RandomForestClassifier())])"
   ]
  },
  {
   "cell_type": "code",
   "execution_count": 8,
   "id": "887c1a74",
   "metadata": {},
   "outputs": [],
   "source": [
    "pipelines =[pipeline_lg , pipeline_dt , pipeline_rf]"
   ]
  },
  {
   "cell_type": "code",
   "execution_count": 10,
   "id": "46056ea7",
   "metadata": {},
   "outputs": [],
   "source": [
    "pip_dict = { 0 :'LogisticRegression' , 1: 'DecisionTree' , 2: 'RandomForest'}"
   ]
  },
  {
   "cell_type": "code",
   "execution_count": 11,
   "id": "a8be96ed",
   "metadata": {},
   "outputs": [],
   "source": [
    " for pip in pipelines :\n",
    "        pip.fit(X_train , Y_train)"
   ]
  },
  {
   "cell_type": "code",
   "execution_count": 12,
   "id": "fcb75d7a",
   "metadata": {},
   "outputs": [
    {
     "name": "stdout",
     "output_type": "stream",
     "text": [
      "LogisticRegression accuracy is 0.8092\n",
      "DecisionTree accuracy is 0.8783\n",
      "RandomForest accuracy is 0.9697\n"
     ]
    }
   ],
   "source": [
    "for i ,model in enumerate(pipelines) :\n",
    "    print (\"{} accuracy is {}\" .format(pip_dict [i] , model.score(X_test , Y_test)))\n",
    "    "
   ]
  },
  {
   "cell_type": "markdown",
   "id": "5f442a17",
   "metadata": {},
   "source": [
    "It seems that RandomForest is the  best for predictions on the data test ."
   ]
  },
  {
   "cell_type": "markdown",
   "id": "e3585030",
   "metadata": {},
   "source": [
    "## New model using neural network :"
   ]
  },
  {
   "cell_type": "code",
   "execution_count": 13,
   "id": "3723fff5",
   "metadata": {},
   "outputs": [],
   "source": [
    "model = tf.keras.Sequential ([\n",
    "    tf.keras.layers.Flatten(input_shape=(28,28)),\n",
    "    tf.keras.layers.Dense(128 , activation ='relu'),\n",
    "    tf.keras.layers.Dense(10)\n",
    "])"
   ]
  },
  {
   "cell_type": "code",
   "execution_count": 16,
   "id": "54d64532",
   "metadata": {},
   "outputs": [],
   "source": [
    "model.compile(optimizer = 'adam' , loss= tf.keras.losses.SparseCategoricalCrossentropy(from_logits= True) ,metrics=['accuracy'])"
   ]
  },
  {
   "cell_type": "code",
   "execution_count": 17,
   "id": "00406d3e",
   "metadata": {},
   "outputs": [
    {
     "name": "stdout",
     "output_type": "stream",
     "text": [
      "Epoch 1/10\n",
      "WARNING:tensorflow:Model was constructed with shape (None, 28, 28) for input KerasTensor(type_spec=TensorSpec(shape=(None, 28, 28), dtype=tf.float32, name='flatten_input'), name='flatten_input', description=\"created by layer 'flatten_input'\"), but it was called on an input with incompatible shape (32, 784).\n",
      "WARNING:tensorflow:Model was constructed with shape (None, 28, 28) for input KerasTensor(type_spec=TensorSpec(shape=(None, 28, 28), dtype=tf.float32, name='flatten_input'), name='flatten_input', description=\"created by layer 'flatten_input'\"), but it was called on an input with incompatible shape (32, 784).\n",
      "1875/1875 [==============================] - 6s 3ms/step - loss: 0.2577 - accuracy: 0.9263\n",
      "Epoch 2/10\n",
      "1875/1875 [==============================] - 4s 2ms/step - loss: 0.1107 - accuracy: 0.9669\n",
      "Epoch 3/10\n",
      "1875/1875 [==============================] - 4s 2ms/step - loss: 0.0765 - accuracy: 0.9772\n",
      "Epoch 4/10\n",
      "1875/1875 [==============================] - 5s 3ms/step - loss: 0.0578 - accuracy: 0.9825\n",
      "Epoch 5/10\n",
      "1875/1875 [==============================] - 5s 3ms/step - loss: 0.0446 - accuracy: 0.9860\n",
      "Epoch 6/10\n",
      "1875/1875 [==============================] - 5s 2ms/step - loss: 0.0348 - accuracy: 0.9890\n",
      "Epoch 7/10\n",
      "1875/1875 [==============================] - 4s 2ms/step - loss: 0.0273 - accuracy: 0.9915\n",
      "Epoch 8/10\n",
      "1875/1875 [==============================] - 5s 3ms/step - loss: 0.0230 - accuracy: 0.9926\n",
      "Epoch 9/10\n",
      "1875/1875 [==============================] - 4s 2ms/step - loss: 0.0192 - accuracy: 0.9939\n",
      "Epoch 10/10\n",
      "1875/1875 [==============================] - 4s 2ms/step - loss: 0.0150 - accuracy: 0.9956\n"
     ]
    },
    {
     "data": {
      "text/plain": [
       "<tensorflow.python.keras.callbacks.History at 0x7fa5f5721ee0>"
      ]
     },
     "execution_count": 17,
     "metadata": {},
     "output_type": "execute_result"
    }
   ],
   "source": [
    "model.fit(X_train  , Y_train , epochs=10)"
   ]
  },
  {
   "cell_type": "code",
   "execution_count": 18,
   "id": "f9a85477",
   "metadata": {},
   "outputs": [
    {
     "name": "stdout",
     "output_type": "stream",
     "text": [
      "WARNING:tensorflow:Model was constructed with shape (None, 28, 28) for input KerasTensor(type_spec=TensorSpec(shape=(None, 28, 28), dtype=tf.float32, name='flatten_input'), name='flatten_input', description=\"created by layer 'flatten_input'\"), but it was called on an input with incompatible shape (None, 784).\n",
      "313/313 [==============================] - 1s 2ms/step - loss: 0.0738 - accuracy: 0.9795\n",
      "the loss is 0.07378524541854858 and the accuracy is 0.9794999957084656\n"
     ]
    }
   ],
   "source": [
    "model_loss, accuracy = model.evaluate(X_test , Y_test)\n",
    "print (\"the loss is {} and the accuracy is {}\".format(model_loss , accuracy))"
   ]
  },
  {
   "cell_type": "markdown",
   "id": "bdffec20",
   "metadata": {},
   "source": [
    "We chose the neural network model to be our selected model "
   ]
  },
  {
   "cell_type": "markdown",
   "id": "4b2eba78",
   "metadata": {},
   "source": [
    "## Predicting on new data:"
   ]
  },
  {
   "cell_type": "code",
   "execution_count": 38,
   "id": "cbaf9632",
   "metadata": {},
   "outputs": [
    {
     "data": {
      "image/png": "[encoded data removed]",
      "text/plain": [
       "<Figure size 432x216 with 2 Axes>"
      ]
     },
     "metadata": {
      "needs_background": "light"
     },
     "output_type": "display_data"
    }
   ],
   "source": [
    "def segmoid(z):\n",
    "    return 1/(1+np.exp(-z))\n",
    "def predict(img):\n",
    "    plt.figure(figsize=(6,3))\n",
    "    plt.subplot(1,2,1)\n",
    "    plt.grid(False)\n",
    "    plt.xticks([])\n",
    "    plt.yticks([])\n",
    "    img=img.reshape((28,28))\n",
    "    plt.imshow(img)\n",
    "    img=img.reshape((1,784))\n",
    "    predictions_array=segmoid(model.predict(img))\n",
    "    predictions_array=np.squeeze(predictions_array)\n",
    "    true_label=np.argmax(predictions_array)\n",
    "    predicted_label = np.argmax(predictions_array)\n",
    "    if predicted_label == true_label:\n",
    "        color = 'blue'\n",
    "    else:\n",
    "        color = 'red'\n",
    "    \n",
    "    plt.xlabel(\"the predicted valur is {} with probability \\n ({})\".format(predicted_label,100*np.max(predictions_array),color=color))\n",
    "    plt.subplot(1,2,2)\n",
    "    plt.grid(False)\n",
    "    plt.xticks(range(10))\n",
    "    plt.yticks([])\n",
    "    \n",
    "    thisplot = plt.bar(range(10), predictions_array, color=\"#777777\")\n",
    "    plt.ylim([0, 1])\n",
    "    thisplot[predicted_label].set_color('red')\n",
    "    thisplot[true_label].set_color('blue')\n",
    "    plt.show()         \n",
    "    \n",
    "predict(X_test[0])"
   ]
  }
 ],
 "metadata": {
  "kernelspec": {
   "display_name": "deepmove",
   "language": "python",
   "name": "deepmove"
  },
  "language_info": {
   "codemirror_mode": {
    "name": "ipython",
    "version": 3
   },
   "file_extension": ".py",
   "mimetype": "text/x-python",
   "name": "python",
   "nbconvert_exporter": "python",
   "pygments_lexer": "ipython3",
   "version": "3.8.8"
  }
 },
 "nbformat": 4,
 "nbformat_minor": 5
}
